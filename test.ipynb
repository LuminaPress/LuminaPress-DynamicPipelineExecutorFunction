{
 "cells": [
  {
   "cell_type": "code",
   "execution_count": 1,
   "id": "3f97c3f1-fffb-47b8-ae0e-6ba96ed51253",
   "metadata": {},
   "outputs": [
    {
     "name": "stderr",
     "output_type": "stream",
     "text": [
      "2024-12-11 16:24:21.280801: I tensorflow/core/platform/cpu_feature_guard.cc:210] This TensorFlow binary is optimized to use available CPU instructions in performance-critical operations.\n",
      "To enable the following instructions: AVX2 FMA, in other operations, rebuild TensorFlow with the appropriate compiler flags.\n",
      "2024-12-11 16:24:22.700071: W tensorflow/compiler/tf2tensorrt/utils/py_utils.cc:38] TF-TRT Warning: Could not find TensorRT\n"
     ]
    }
   ],
   "source": [
    "from DynamicPipelineExecutorFunction.DynamicPipelineExecutorFunction import *\n",
    "from tqdm import tqdm"
   ]
  },
  {
   "cell_type": "code",
   "execution_count": 2,
   "id": "06d33917-fede-4009-be9d-c9507a154430",
   "metadata": {},
   "outputs": [
    {
     "name": "stderr",
     "output_type": "stream",
     "text": [
      "Processing Articles: 100%|█████████████| 20/20 [00:00<00:00, 250406.21article/s]\n"
     ]
    }
   ],
   "source": [
    "articles = fetch_news_data()"
   ]
  },
  {
   "cell_type": "code",
   "execution_count": 3,
   "id": "a59e727a-d789-4659-b417-de1d22cdb0b3",
   "metadata": {},
   "outputs": [],
   "source": [
    "tc = TextCleaner()\n",
    "description_summarizer = EnhancedDescriptionCleaner()\n",
    "markdown_generator = AdvancedMarkdownGenerator()"
   ]
  },
  {
   "cell_type": "code",
   "execution_count": 4,
   "id": "40b7e73f-29c8-4803-87a2-a9cf9a6971fc",
   "metadata": {},
   "outputs": [],
   "source": [
    "article = articles[2]"
   ]
  },
  {
   "cell_type": "code",
   "execution_count": 5,
   "id": "bcfe04e4-d439-466f-b4ca-dea8fdce3981",
   "metadata": {},
   "outputs": [
    {
     "data": {
      "text/plain": [
       "{'source': {'id': None, 'name': 'BBC News'},\n",
       " 'author': None,\n",
       " 'title': 'Daniel Penny found not guilty in NY subway chokehold death of Jordan Neely - BBC.com',\n",
       " 'description': 'The case sparked weeks of protests and reignited national debate over race, mental illness, and public safety in the US.',\n",
       " 'url': 'https://www.bbc.com/news/articles/crrw0881gzvo',\n",
       " 'urlToImage': 'https://ichef.bbci.co.uk/news/1024/branded_news/7f04/live/a5aa4b00-b64e-11ef-b290-5582545eece3.jpg',\n",
       " 'publishedAt': '2024-12-10T07:11:29Z',\n",
       " 'content': 'A 26-year-old man has been acquitted of homicide for putting an unarmed homeless man in a fatal chokehold, a case that sparked weeks of protests and reignited debates over public safety, mental illne… [+3839 chars]'}"
      ]
     },
     "execution_count": 5,
     "metadata": {},
     "output_type": "execute_result"
    }
   ],
   "source": [
    "article"
   ]
  },
  {
   "cell_type": "code",
   "execution_count": 6,
   "id": "6710c29b-c35b-4af9-82d1-c9d210c262b3",
   "metadata": {},
   "outputs": [
    {
     "name": "stderr",
     "output_type": "stream",
     "text": [
      "Gathering links: 15link [00:12,  1.20link/s]\n",
      "WARNING:root:Insufficient diverse links gathered (2). Refining search.\n"
     ]
    }
   ],
   "source": [
    "title = article.get(\"title\", None)\n",
    "url = article.get(\"url\", \"No URL\")\n",
    "similar_articles = google_search_article_links(title, 5, [url])"
   ]
  },
  {
   "cell_type": "code",
   "execution_count": 7,
   "id": "5ec5dee9-d5d8-44cb-9614-1aa2c809f3e1",
   "metadata": {},
   "outputs": [],
   "source": [
    "ag = ArticleRepository(initial_titles=[title], initial_imgs=[article['urlToImage']], initial_descriptions=[article['description'], article['content']], initial_sources=[url], initial_authors=[article['author']])"
   ]
  },
  {
   "cell_type": "code",
   "execution_count": 8,
   "id": "e961955b-dcf4-48ae-b943-45e625186554",
   "metadata": {},
   "outputs": [
    {
     "data": {
      "text/plain": [
       "['https://www.yahoo.com/news/daniel-penny-not-guilty-nyc-231000959.html',\n",
       " 'https://www.axios.com/2024/12/10/daniel-penny-nyc-subway-chokehold-jordan-neely-not-guilty',\n",
       " 'https://www.cbc.ca/news/world/nyc-subway-chokehold-verdict-1.7400642',\n",
       " 'https://ca.news.yahoo.com/daniel-penny-found-not-guilty-165537595.html',\n",
       " 'https://www.aol.com/news/daniel-penny-found-not-guilty-163211426.html']"
      ]
     },
     "execution_count": 8,
     "metadata": {},
     "output_type": "execute_result"
    }
   ],
   "source": [
    "similar_articles"
   ]
  },
  {
   "cell_type": "code",
   "execution_count": 9,
   "id": "458fb04c-61f5-4566-ab3a-bcb6499124d2",
   "metadata": {},
   "outputs": [
    {
     "name": "stderr",
     "output_type": "stream",
     "text": [
      " 20%|█████████                                    | 1/5 [00:16<01:06, 16.59s/it]WARNING:root:Google Image search failed: Message: \n",
      "Stacktrace:\n",
      "#0 0x63982f77331a <unknown>\n",
      "#1 0x63982f2896e0 <unknown>\n",
      "#2 0x63982f2d83e6 <unknown>\n",
      "#3 0x63982f2d8681 <unknown>\n",
      "#4 0x63982f31db04 <unknown>\n",
      "#5 0x63982f2fc48d <unknown>\n",
      "#6 0x63982f31aed7 <unknown>\n",
      "#7 0x63982f2fc203 <unknown>\n",
      "#8 0x63982f2cacc0 <unknown>\n",
      "#9 0x63982f2cbc9e <unknown>\n",
      "#10 0x63982f740d0b <unknown>\n",
      "#11 0x63982f744c92 <unknown>\n",
      "#12 0x63982f72db3c <unknown>\n",
      "#13 0x63982f745807 <unknown>\n",
      "#14 0x63982f7130df <unknown>\n",
      "#15 0x63982f762578 <unknown>\n",
      "#16 0x63982f762740 <unknown>\n",
      "#17 0x63982f772196 <unknown>\n",
      "#18 0x7043ed89ca94 <unknown>\n",
      "#19 0x7043ed929c3c <unknown>\n",
      "\n",
      " 60%|███████████████████████████                  | 3/5 [01:14<00:48, 24.36s/it]ERROR:root:Unhandled error scraping https://ca.news.yahoo.com/daniel-penny-found-not-guilty-165537595.html: HTTPConnectionPool(host='localhost', port=52977): Read timed out. (read timeout=120)\n",
      " 80%|████████████████████████████████████         | 4/5 [03:20<01:04, 64.56s/it]ERROR:root:Unhandled error scraping https://www.aol.com/news/daniel-penny-found-not-guilty-163211426.html: HTTPConnectionPool(host='localhost', port=42239): Read timed out. (read timeout=120)\n",
      "100%|█████████████████████████████████████████████| 5/5 [05:26<00:00, 65.36s/it]\n"
     ]
    }
   ],
   "source": [
    "for similar_article in tqdm(similar_articles):\n",
    "    ag.get_article(similar_article)"
   ]
  },
  {
   "cell_type": "code",
   "execution_count": 10,
   "id": "ee696585-a301-4a6a-a1e7-d9ea97027d04",
   "metadata": {},
   "outputs": [
    {
     "name": "stderr",
     "output_type": "stream",
     "text": [
      "WARNING:root:Insufficient titles. Attempting to retrieve more.\n",
      "Gathering links: 0link [00:00, ?link/s]\n",
      "WARNING:root:Insufficient diverse links gathered (0). Refining search.\n",
      "WARNING:root:Scroll error: HTTPConnectionPool(host='localhost', port=59253): Read timed out. (read timeout=120)\n",
      "WARNING:root:Google Image search failed: Message: \n",
      "Stacktrace:\n",
      "#0 0x608e8742c31a <unknown>\n",
      "#1 0x608e86f426e0 <unknown>\n",
      "#2 0x608e86f913e6 <unknown>\n",
      "#3 0x608e86f91681 <unknown>\n",
      "#4 0x608e86fd6b04 <unknown>\n",
      "#5 0x608e86fb548d <unknown>\n",
      "#6 0x608e86fd3ed7 <unknown>\n",
      "#7 0x608e86fb5203 <unknown>\n",
      "#8 0x608e86f83cc0 <unknown>\n",
      "#9 0x608e86f84c9e <unknown>\n",
      "#10 0x608e873f9d0b <unknown>\n",
      "#11 0x608e873fdc92 <unknown>\n",
      "#12 0x608e873e6b3c <unknown>\n",
      "#13 0x608e873fe807 <unknown>\n",
      "#14 0x608e873cc0df <unknown>\n",
      "#15 0x608e8741b578 <unknown>\n",
      "#16 0x608e8741b740 <unknown>\n",
      "#17 0x608e8742b196 <unknown>\n",
      "#18 0x7b968329ca94 <unknown>\n",
      "#19 0x7b9683329c3c <unknown>\n",
      "\n"
     ]
    },
    {
     "data": {
      "text/plain": [
       "['Daniel Penny found not guilty in NY subway chokehold death of Jordan Neely - BBC.com',\n",
       " 'Daniel Penny’s acquittal reveals ‘double standard’ about white vigilante crime',\n",
       " \"Daniel Penny found not guilty in Jordan Neely's chokehold death in NYC\",\n",
       " 'Ex-Marine acquitted of negligent homicide after applying chokehold on NYC subway car | CBC News',\n",
       " 'Daniel Penny found not guilty in NY subway chokehold death of Jordan Neely']"
      ]
     },
     "execution_count": 10,
     "metadata": {},
     "output_type": "execute_result"
    }
   ],
   "source": [
    "ag.get_titles()"
   ]
  },
  {
   "cell_type": "code",
   "execution_count": 11,
   "id": "5893d4e0-253a-41c5-aebc-d8298d1af6a3",
   "metadata": {},
   "outputs": [
    {
     "data": {
      "text/plain": [
       "['The case sparked weeks of protests and reignited national debate over race, mental illness, and public safety in the US.',\n",
       " 'A 26-year-old man has been acquitted of homicide for putting an unarmed homeless man in a fatal chokehold, a case that sparked weeks of protests and reignited debates over public safety, mental illne… [+3839 chars]',\n",
       " 'NEW YORK — Daniel Penny was found not guilty of criminally negligent homicide Monday in the chokehold killing of Jordan Neely on a Manhattan F train — bringing closurein the polarizing casethat provoked heated debates about vigilantism, mental illness and subway safety.',\n",
       " 'The verdict, which was announced in Manhattan Supreme Court just before 11:30 a.m., came after Justice Maxwell Wiley on Fridaydismissed the top charge of manslaughterat prosecutors’ request after jurors twice said they couldn’t unanimously agree on it. That allowed the panel to consider the lesser charge, carrying a maximum of four years in prison instead of 15.',\n",
       " 'After the verdict, court officials escorted Penny’s legal team and the jury away from the facility as protesters calling for Penny’s conviction were heard from the 13th-floor courtroom shouting, “No justice! No peace!” In a phone call with the Daily News, Penny’s lawyer, Thomas Kenniff, said his client was “elated” and celebrating at a bar with his legal team.']"
      ]
     },
     "execution_count": 11,
     "metadata": {},
     "output_type": "execute_result"
    }
   ],
   "source": [
    "ag.get_descriptions()[:5]"
   ]
  },
  {
   "cell_type": "code",
   "execution_count": 12,
   "id": "48fb7b1c-d578-4a0e-b0c6-19b90bdc8bc9",
   "metadata": {},
   "outputs": [
    {
     "data": {
      "text/plain": [
       "['https://ichef.bbci.co.uk/news/1024/branded_news/7f04/live/a5aa4b00-b64e-11ef-b290-5582545eece3.jpg',\n",
       " 'https://s.yimg.com/uu/api/res/1.2/4dicBCagvdNe1byCwCdfmQ--~B/Zmk9c3RyaW07aD01MDQ7cT05NTt3PTg5NjthcHBpZD15dGFjaHlvbg--/https://media.zenfs.com/en/the_huffington_post_584/21f303324ca5a2ccb0f7f29bfe45682f.cf.webp',\n",
       " 'https://s.yimg.com/uu/api/res/1.2/NdyjSk4Ir30PmI9zKipxCA--~B/Zmk9c3RyaW07aD01MDQ7cT05NTt3PTg5NjthcHBpZD15dGFjaHlvbg--/https://media.zenfs.com/en/thedailybeast.com/c2f00443bd6f4b46e73ee1ac70089ef2.cf.webp',\n",
       " 'https://s.yimg.com/uu/api/res/1.2/UtdzkR5pS4ToxCEtxaSN3Q--~B/Zmk9c3RyaW07aD0yNTI7cT05NTt3PTQ0ODthcHBpZD15dGFjaHlvbg--/https://media.zenfs.com/en/the_telegraph_258/b31137799a45df85662086fc2540e6d9.cf.webp',\n",
       " 'https://s.yimg.com/uu/api/res/1.2/gTLBzRoQvCsd8nIKissKLQ--~B/Zmk9c3RyaW07aD0xNDg7cT05NTt3PTE0ODthcHBpZD15dGFjaHlvbg--/https://media.zenfs.com/en/soaphub_816/8a1dae5adcbc1d8d50aca96e9b75db3f.cf.webp']"
      ]
     },
     "execution_count": 12,
     "metadata": {},
     "output_type": "execute_result"
    }
   ],
   "source": [
    "ag.get_images()[:5]"
   ]
  },
  {
   "cell_type": "code",
   "execution_count": 13,
   "id": "0e682a33-0083-44ec-a4dd-1a3677091cb2",
   "metadata": {},
   "outputs": [
    {
     "data": {
      "text/plain": [
       "'The case sparked weeks of protests and reignited national debate over race mental illness and public'"
      ]
     },
     "execution_count": 13,
     "metadata": {},
     "output_type": "execute_result"
    }
   ],
   "source": []
  },
  {
   "cell_type": "code",
   "execution_count": 14,
   "id": "cb4bc0a5-8385-4832-bb58-7b34964adae5",
   "metadata": {},
   "outputs": [],
   "source": [
    "description = EnhancedDescriptionCleaner.clean_description(\"\\n\".join(ag.get_descriptions()), title)"
   ]
  },
  {
   "cell_type": "code",
   "execution_count": 15,
   "id": "fe75d6eb-c461-4b1f-9e98-821a64878399",
   "metadata": {},
   "outputs": [],
   "source": [
    "title = demonstrate_condenser(ag.get_titles())"
   ]
  },
  {
   "cell_type": "code",
   "execution_count": 16,
   "id": "beb7ff6f-3faa-4022-a5f9-f125c09a724b",
   "metadata": {},
   "outputs": [
    {
     "data": {
      "text/plain": [
       "'Daniel Penny Found Not Guilty Ny Subway Chokehold Death Jordan'"
      ]
     },
     "execution_count": 16,
     "metadata": {},
     "output_type": "execute_result"
    }
   ],
   "source": [
    "title"
   ]
  },
  {
   "cell_type": "code",
   "execution_count": 17,
   "id": "0e7eeab3-0954-4696-87a6-090ac14c0b1a",
   "metadata": {},
   "outputs": [
    {
     "data": {
      "text/plain": [
       "'The case sparked weeks of protests and reignited n'"
      ]
     },
     "execution_count": 17,
     "metadata": {},
     "output_type": "execute_result"
    }
   ],
   "source": [
    "description[:50]"
   ]
  },
  {
   "cell_type": "code",
   "execution_count": 18,
   "id": "898579a6-8a49-4e17-9fc6-a13c4bc60259",
   "metadata": {},
   "outputs": [],
   "source": [
    "# self.UnbiasedNewsGenerator.generate_unbiased_news"
   ]
  },
  {
   "cell_type": "code",
   "execution_count": 19,
   "id": "7c95625d-5710-4229-8ffc-0968e05decce",
   "metadata": {},
   "outputs": [],
   "source": [
    "# markdown_generator.generate_markdown(description)"
   ]
  },
  {
   "cell_type": "code",
   "execution_count": 20,
   "id": "55923dec-79c9-4436-b6a3-3dc4043ebf94",
   "metadata": {},
   "outputs": [
    {
     "name": "stderr",
     "output_type": "stream",
     "text": [
      "/home/ranuga/anaconda3/lib/python3.11/site-packages/PIL/Image.py:981: UserWarning: Palette images with Transparency expressed in bytes should be converted to RGBA images\n",
      "  warnings.warn(\n",
      "ERROR:root:Image embedding error for https://i.cbc.ca/1.7125854.1708969311!/fileImage/httpImage/image.jpg_gen/derivatives/square_140/john-paul-j-p-tasker.jpg: HTTPSConnectionPool(host='i.cbc.ca', port=443): Read timed out. (read timeout=10)\n",
      "ERROR:root:Image embedding error for https://www.cbc.ca/a/assets/logo_cbc-radio-canada.svg: HTTPSConnectionPool(host='www.cbc.ca', port=443): Read timed out. (read timeout=10)\n",
      "ERROR:root:Image embedding error for https://www.cbc.ca/a/assets/nojsimg.gif: HTTPSConnectionPool(host='www.cbc.ca', port=443): Read timed out. (read timeout=10)\n",
      "ERROR:root:Image embedding error for https://i.cbc.ca/1.7398065.1733843776!/fileImage/httpImage/image.jpg_gen/derivatives/16x9_780/trudeau-and-trump.jpg: HTTPSConnectionPool(host='i.cbc.ca', port=443): Read timed out. (read timeout=10)\n",
      "ERROR:root:Image embedding error for https://i.cbc.ca/1.6635954.1667251323!/fileImage/httpImage/image.jpg_gen/derivatives/16x9_780/btk-dujeofwindsorgermanytour.jpg: HTTPSConnectionPool(host='i.cbc.ca', port=443): Read timed out. (read timeout=10)\n",
      "ERROR:root:Image embedding error for https://i.cbc.ca/1.7396842.1732922746!/fileImage/httpImage/image.jpeg_gen/derivatives/16x9_780/emily-beckman.jpeg: HTTPSConnectionPool(host='i.cbc.ca', port=443): Read timed out. (read timeout=10)\n",
      "ERROR:root:Image embedding error for https://i.cbc.ca/1.7405390.1733766559!/fileImage/httpImage/image.jpg_gen/derivatives/16x9_780/news-quiz-words-of-the-year-sitecard-dec24.jpg: HTTPSConnectionPool(host='i.cbc.ca', port=443): Read timed out. (read timeout=10)\n",
      "ERROR:root:Image embedding error for https://i.cbc.ca/1.7406726.1733863051!/fileImage/httpImage/image.jpg_gen/derivatives/16x9_780/2188648047.jpg: HTTPSConnectionPool(host='i.cbc.ca', port=443): Read timed out. (read timeout=10)\n",
      "ERROR:root:Image embedding error for https://i.cbc.ca/1.7406625.1733862329!/fileImage/httpImage/image.jpeg_gen/derivatives/16x9_780/golden-temple.jpeg: HTTPSConnectionPool(host='i.cbc.ca', port=443): Read timed out. (read timeout=10)\n",
      "ERROR:root:Image embedding error for https://i.cbc.ca/1.5430629.1579272145!/fileImage/httpImage/image.jpg_gen/derivatives/16x9_780/pass-the-salt-new-research.jpg: HTTPSConnectionPool(host='i.cbc.ca', port=443): Read timed out. (read timeout=10)\n",
      "ERROR:root:Image embedding error for https://i.cbc.ca/1.7391120.1732305681!/cpImage/httpImage/image.jpg_gen/derivatives/16x9_780/bird-flu.jpg: HTTPSConnectionPool(host='i.cbc.ca', port=443): Read timed out. (read timeout=10)\n",
      "ERROR:root:Image embedding error for https://i.cbc.ca/1.6482181.1659118994!/fileImage/httpImage/image.jpg_gen/derivatives/square_140/sheena-goodyear.jpg: HTTPSConnectionPool(host='i.cbc.ca', port=443): Read timed out. (read timeout=10)\n",
      "ERROR:root:Image embedding error for https://i.cbc.ca/1.4359385.1544645963!/fileImage/httpImage/image.jpg_gen/derivatives/square_140/cbc-gem.jpg: HTTPSConnectionPool(host='i.cbc.ca', port=443): Read timed out. (read timeout=10)\n",
      "ERROR:root:Image embedding error for https://i.cbc.ca/1.7406717.1733862669!/fileImage/httpImage/image.JPG_gen/derivatives/16x9_780/syria-security-asylum-austria.JPG: HTTPSConnectionPool(host='i.cbc.ca', port=443): Read timed out. (read timeout=10)\n",
      "ERROR:root:Image embedding error for https://i.cbc.ca/1.7406917.1733870499!/fileImage/httpImage/image.jpg_gen/derivatives/16x9_780/new-zealand-customs-service-image-of-methamphetamine-seized-in-auckland.jpg: HTTPSConnectionPool(host='i.cbc.ca', port=443): Read timed out. (read timeout=10)\n"
     ]
    },
    {
     "data": {
      "text/plain": [
       "[]"
      ]
     },
     "execution_count": 20,
     "metadata": {},
     "output_type": "execute_result"
    }
   ],
   "source": [
    "find_image_matches(ag.get_images() ,description, title)"
   ]
  },
  {
   "cell_type": "code",
   "execution_count": 21,
   "id": "7e4f6e2a-fefb-4189-b6f8-e35470f6e0a7",
   "metadata": {},
   "outputs": [
    {
     "name": "stderr",
     "output_type": "stream",
     "text": [
      "ERROR:root:Image embedding error for https://i.cbc.ca/1.7125854.1708969311!/fileImage/httpImage/image.jpg_gen/derivatives/square_140/john-paul-j-p-tasker.jpg: HTTPSConnectionPool(host='i.cbc.ca', port=443): Read timed out. (read timeout=10)\n",
      "ERROR:root:Image embedding error for https://www.cbc.ca/a/assets/logo_cbc-radio-canada.svg: HTTPSConnectionPool(host='www.cbc.ca', port=443): Read timed out. (read timeout=10)\n",
      "ERROR:root:Image embedding error for https://www.cbc.ca/a/assets/nojsimg.gif: HTTPSConnectionPool(host='www.cbc.ca', port=443): Read timed out. (read timeout=10)\n",
      "ERROR:root:Image embedding error for https://i.cbc.ca/1.7398065.1733843776!/fileImage/httpImage/image.jpg_gen/derivatives/16x9_780/trudeau-and-trump.jpg: HTTPSConnectionPool(host='i.cbc.ca', port=443): Read timed out. (read timeout=10)\n",
      "ERROR:root:Image embedding error for https://i.cbc.ca/1.6635954.1667251323!/fileImage/httpImage/image.jpg_gen/derivatives/16x9_780/btk-dujeofwindsorgermanytour.jpg: HTTPSConnectionPool(host='i.cbc.ca', port=443): Read timed out. (read timeout=10)\n",
      "ERROR:root:Image embedding error for https://i.cbc.ca/1.7396842.1732922746!/fileImage/httpImage/image.jpeg_gen/derivatives/16x9_780/emily-beckman.jpeg: HTTPSConnectionPool(host='i.cbc.ca', port=443): Read timed out. (read timeout=10)\n",
      "ERROR:root:Image embedding error for https://i.cbc.ca/1.7405390.1733766559!/fileImage/httpImage/image.jpg_gen/derivatives/16x9_780/news-quiz-words-of-the-year-sitecard-dec24.jpg: HTTPSConnectionPool(host='i.cbc.ca', port=443): Read timed out. (read timeout=10)\n",
      "ERROR:root:Image embedding error for https://i.cbc.ca/1.7406726.1733863051!/fileImage/httpImage/image.jpg_gen/derivatives/16x9_780/2188648047.jpg: HTTPSConnectionPool(host='i.cbc.ca', port=443): Read timed out. (read timeout=10)\n",
      "ERROR:root:Image embedding error for https://i.cbc.ca/1.7406625.1733862329!/fileImage/httpImage/image.jpeg_gen/derivatives/16x9_780/golden-temple.jpeg: HTTPSConnectionPool(host='i.cbc.ca', port=443): Read timed out. (read timeout=10)\n",
      "ERROR:root:Image embedding error for https://i.cbc.ca/1.5430629.1579272145!/fileImage/httpImage/image.jpg_gen/derivatives/16x9_780/pass-the-salt-new-research.jpg: HTTPSConnectionPool(host='i.cbc.ca', port=443): Read timed out. (read timeout=10)\n",
      "ERROR:root:Image embedding error for https://i.cbc.ca/1.7391120.1732305681!/cpImage/httpImage/image.jpg_gen/derivatives/16x9_780/bird-flu.jpg: HTTPSConnectionPool(host='i.cbc.ca', port=443): Read timed out. (read timeout=10)\n",
      "ERROR:root:Image embedding error for https://i.cbc.ca/1.6482181.1659118994!/fileImage/httpImage/image.jpg_gen/derivatives/square_140/sheena-goodyear.jpg: HTTPSConnectionPool(host='i.cbc.ca', port=443): Read timed out. (read timeout=10)\n",
      "ERROR:root:Image embedding error for https://i.cbc.ca/1.4359385.1544645963!/fileImage/httpImage/image.jpg_gen/derivatives/square_140/cbc-gem.jpg: HTTPSConnectionPool(host='i.cbc.ca', port=443): Read timed out. (read timeout=10)\n",
      "ERROR:root:Image embedding error for https://i.cbc.ca/1.7406717.1733862669!/fileImage/httpImage/image.JPG_gen/derivatives/16x9_780/syria-security-asylum-austria.JPG: HTTPSConnectionPool(host='i.cbc.ca', port=443): Read timed out. (read timeout=10)\n",
      "ERROR:root:Image embedding error for https://i.cbc.ca/1.7406917.1733870499!/fileImage/httpImage/image.jpg_gen/derivatives/16x9_780/new-zealand-customs-service-image-of-methamphetamine-seized-in-auckland.jpg: HTTPSConnectionPool(host='i.cbc.ca', port=443): Read timed out. (read timeout=10)\n"
     ]
    },
    {
     "data": {
      "text/plain": [
       "[]"
      ]
     },
     "execution_count": 21,
     "metadata": {},
     "output_type": "execute_result"
    }
   ],
   "source": [
    "find_image_matches(ag.get_images() ,description)"
   ]
  },
  {
   "cell_type": "code",
   "execution_count": 22,
   "id": "175a7e3b-ec73-4c7a-ac09-f5ce55de518c",
   "metadata": {},
   "outputs": [
    {
     "data": {
      "text/plain": [
       "['https://www.bbc.com/news/articles/crrw0881gzvo',\n",
       " 'https://www.yahoo.com/news/daniel-penny-not-guilty-nyc-231000959.html',\n",
       " 'https://www.axios.com/2024/12/10/daniel-penny-nyc-subway-chokehold-jordan-neely-not-guilty',\n",
       " 'https://www.cbc.ca/news/world/nyc-subway-chokehold-verdict-1.7400642',\n",
       " 'https://ca.news.yahoo.com/daniel-penny-found-not-guilty-165537595.html',\n",
       " 'https://www.aol.com/news/daniel-penny-found-not-guilty-163211426.html',\n",
       " 'https://www.bbc.co.uk/news/articles/crrw0881gzvo']"
      ]
     },
     "execution_count": 22,
     "metadata": {},
     "output_type": "execute_result"
    }
   ],
   "source": [
    "ag.get_sources()"
   ]
  },
  {
   "cell_type": "code",
   "execution_count": 23,
   "id": "8e138d9d-a973-41df-a296-d4e54ad728f7",
   "metadata": {},
   "outputs": [
    {
     "data": {
      "text/plain": [
       "['None',\n",
       " 'www.yahoo.com',\n",
       " 'Rebecca Falconer',\n",
       " 'Thomson Reuters·Posted: Dec 09, 2024 11:46 AM EST | Last Updated: December 9',\n",
       " 'www.bbc.co.uk']"
      ]
     },
     "execution_count": 23,
     "metadata": {},
     "output_type": "execute_result"
    }
   ],
   "source": [
    "ag.get_authors()"
   ]
  },
  {
   "cell_type": "code",
   "execution_count": 24,
   "id": "59d06f71-3517-4dd2-a08e-c0181ec7d6da",
   "metadata": {},
   "outputs": [
    {
     "data": {
      "text/plain": [
       "'Daniel Penny Found Not Guilty Ny Subway Chokehold Death Jordan'"
      ]
     },
     "execution_count": 24,
     "metadata": {},
     "output_type": "execute_result"
    }
   ],
   "source": [
    "title"
   ]
  },
  {
   "cell_type": "code",
   "execution_count": 25,
   "id": "238b7997-30b3-4f53-b2b6-aabff4c05fca",
   "metadata": {},
   "outputs": [
    {
     "data": {
      "text/plain": [
       "'The case sparked weeks of protests and reignited national debate over race mental illness and public safety in the US A 26 year old man has been acquitted of homicide for putting an unarmed homeless man in a fatal chokehold a case that sparked weeks of protests and reignited debates over public safety mental illne 3839 chars NEW YORK Daniel Penny was found not guilty of criminally negligent homicide Monday in the chokehold killing of Jordan Neely on a Manhattan F train bringing closurein the polarizing casethat provoked heated debates about vigilantism mental illness and subway safety The verdict which was announced in Manhattan Supreme Court just before 11 30 a m came after Justice Maxwell Wiley on Fridaydismissed the top charge of manslaughterat prosecutors request after jurors twice said they couldn t unanimously agree on it That allowed the panel to consider the lesser charge carrying a maximum of four years in prison instead of 15 After the verdict court officials escorted Penny s legal team and the jury away from the facility as protesters calling for Penny s conviction were heard from the 13 th floor courtroom shouting No justice No peace In a phone call with the Daily News Penny s lawyer Thomas Kenniff said his client was elated and celebrating at a bar with his legal team Justice has finally been served and Danny has gotten the acquittal that he knew was coming the last 18 months Kenniff said adding Penny was elated to finally not to be living under the weight of false accusations and having his honor diminished by this misguided indictment Penny s supporters inside the courtroom began applauding when the verdict was read Neely s father Andre Zachery became upset by their celebration prompting officers to eject him and supporters of Neely who were in tears Outside Zachery addressed the media surrounded by family members leaders of the New York chapter of the Black Lives Matter movement who held demonstrations throughout the trial and Gwen Carr the mother of slain Staten Island man Eric Garner who was killed in a department banned police chokehold in 2014 I just want to say I miss my son Zachery said in some of his only comments during the trial It hurts It really really hurts What are we gonna do people What s gonna happen to us now The jury of seven women and five men heard from more than 40 witnesses during the trial They got the case on Tuesday and made several requests during deliberations asking to reviewtestimony from the city medical examinerwho ruled Neely s death a homicide footage of the encounter and its aftermath and various legal definitions The prosecution portrayed Penny as someone who may have initially acted with good intent when Neely got on the F train he was riding acting menacingly toward those onboard But they argued he crossed the line into criminality by holding onto Neely for far too long after passengers fled to safety until he d choked the life out of him Penny s defense painted him asa good Samaritan being punished for trying to help his fellow New Yorkersin a frightening moment They sought to convince jurors that the chokehold didn t kill Neely but rather his poor mental and physical health and history of drug use To find Penny guilty of manslaughter which jurors couldn t unanimously agree on Friday the panel had to find he unjustifiably created a grave risk to Neely s life that he consciously disregarded when he subdued him on the train To find him guilty of criminally negligent homicide they were required to find he created an unjustifiable grave risk that he failed to perceive In a statement Manhattan District Attorney Alvin Bragg said the time the jury took to deliberate the divisive case underscored why it had to go on trial Their lengthy deliberation and the totality of the facts and the evidence underscored why this case was put in front of a jury of Mr Penny s peers Bragg said The DA lamented that career prosecutors and their relatives had been aggressively targeted and besieged with hate and threats on social media by phone and over email Simply put this is unacceptable and everyone no matter your opinion on this case should condemn it Bragg said These are prosecutors who have dedicated decades of their lives to public service and to the safety of Manhattan At his weekly press briefing Mayor Eric Adams blamed the city s mental health services saying Jordan should not have had to die I strongly believe as I ve been stating probably from day one we have a mental health system that is broken When you have someone repeatedly going through that system that s a signature of failure Adams said The case garnered national attention after footage of the chokehold incident went viral In the early days of the presidential primary campaign season Penny becamea right wing cause ce le bre pulling in millions of dollars toward his legal defense and words of support from GOP candidates like Donald Trump Vivek Ramaswamy and Florida Gov Ron De Santis They hailed him as a hero who took action to protect passengers at a time when many subway riders were on edge following a spate of horrific acts of violence on the trains The nearly two week delay between Neely s death and Penny s arrest saw civil rights protesters take tothe city s streets and subway tracksto protest the unaccounted for killing of a poor and vulnerable Black man in crisis who did not touch anyone on the train or have a weapon The case drew instant comparisons to the 1984 shooting by Bernie Goetz a white engineer who gunned down four Black teens on the train who he said he believed planned to rob him paralyzing one The Rev Al Sharptondelivered the eulogy at Neely s funeral telling mourners A boy on a train is screaming for help and somebody comes up from behind and claims self defense Sharpton who heads the National Action Network issued a statement Monday condemning the verdict Jordan Neely s life was brutally taken away because of unnecessary vigilantism he said This kind of behavior was inexcusable 40 years ago when Bernhard Goetz opened fire in a subway car and it remained the case more than a year ago when Daniel Penny took Jordan s life Jordan was in the middle of a mental health crisis but instead of being offered a helping hand he got an arm around his neck Zachery filed a civil suit against Pennyduring deliberations last week His attorney Donte Mills said they would continue to seek accountability for the chokehold in civil court Mills said the outcome meant If we see someone going through something to ask them if they re okay That s how we help each other Because we can t rely on the system to do it for us Penny 26 of Suffolk County L I served for four years in the Marines and was studying architecture and working as a barback in Brooklyn at the time of the incident Neely 30 who was homeless and experiencing untreated mental illness and drug addiction grew up in New York and New Jersey His mother was brutally murdered when he was 14 which his family has said sent him into a deep funk and saw him become estranged from his relatives When he was stable he found joy in dancing to Michael Jackson s musicfor New Yorkers The lives of the two men both standing at 6 feet and 1 inch tall collided at around 2 25 p m on the afternoon of Monday May 1 2023 Penny boarded the train in Brooklyn and was going to the gym near the Flatiron building Neely got on at the Second Ave station threw down his jacket and began screaming shortly after the doors closed Eight passengers who testified at the trial said Neely said something to the effect of being hungry thirsty and ready to die and go back to jail alarming them Three said he used the words kill or die in reference to himself or others A young mother who was on the train with her son did not recall Neely descending on them and saying I will kill as the defense stated at the start of the trial Nobody testified that Neely who was unarmed put his hands on anyone or directed his threats at someone specific Penny quickly intervened wrapping his arm around Neely s neck and taking him down to the floor from behind according to his defense and witness testimony Within around 30 seconds the train reached the next stop Broadway Lafayette where the two men remained in a struggle on the floor and passengers fled to the platform Prosecutors argued Penny s actions became criminal at that point when he continued to subdue Neely in a chokehold for almost six minutes until Neely passed out never to regain consciousness Two men aided Penny Eric Gonzalez 39 a room manager at a casino who had been waiting on the platformwhen the train pulled into the station and a man from Germany who was on the train and refused to cooperate with either side or return to the U S to testify In a nearly five minute videoshot by independent journalist Juan Alberto Vasquez which catapulted the incident into the national spotlight Penny is seen with his arm gripped around Neely s neck and his legs wrapped around his body on the stalled train Jurors watched it multiple times during the trial examining it frame by frame and in slow motion Neely raises his left arm and Gonzalez holds it down Neely then raises his right arm and taps the leg of the German tourist appearing to motion for help The tourist then holds down Neely s right arm Gonzalez begins holding down both of Neely s arms the tourist now holding his shoulder and Neely begins to squirm with greater effort as Penny tightens his grip around his neck In his testimony Penny s former martial arts trainer in the Marines Joseph Caballer said he had appearedto apply the chokehold technique he d been taughtincorrectly The situation intensifies and the men roll over Neely starts kicking his legs to break free About three minutes into the video Neely stops moving Witness Larry Goodson 61 is thenheard telling the men they should let go Gonzalez insists Penny is not squeezing no more You gotta let him go My wife is ex military You going to kill him now Goodson says in the video warning that if Neely defecated himself that s it Within a few seconds Penny and Gonzalez let up as Neely s body goes limp Police and medics soon arrived failed to revive Neely and brought him to Lenox Hill Hospital where he was pronounced dead On police worn camera footage Penny is seen telling officers at the scene he just put him out Later he willingly sat for questioning with detectives at the Fifth Precinct stationhouse in footage jurors also asked to review I was on my phone like listening to music I wasn t paying attention He was just a crackhead you know what I mean Penny told the cops about Neely getting on the train I felt the need that to you know step in because there s women children on the on the train I m sure you ll there s ladies there that that ll vouch for me When he testified on Nov 12 Gonzalez said he told Penny during the altercation thathe could let go of Neely s neckbut that Penny did not Gonzalez also admitted that he initially lied to authorities claiming he d been on the train the whole time and that Neely assaulted him and was breathing when he left the scene out of fear he d face charges The jury was asked to draw starkly different conclusions from the evidence Jordan was on a collision course with himself The consequences of Danny failing to act may very well have been the trial of Jordan Neely for hurting or killing someone on that train Steven Raiser said in his summation This case is about a broken system A broken system that does not help our mentally ill or our unhoused In fact it is that broken system that led us that is interwoven into the very fabric of this case The prosecution in turn said passengers fear of Neely was valid but that Penny did not need to use deadly physical force to address it or subdue the unarmed Neely once everyone was off the train The law is very proscribed It is very narrow very precise to make sure that people only use deadly physical force against each other when it is absolutely necessary and for as long as it is absolutely necessary Assistant District Attorney Dafna Yoran said last week You obviously cannot kill someone because they are crazy and ranting and looking menacing No matter what it is that they are saying Daniel Penny arrives at the Manhattan Criminal Courthouse in New York City on Monday Photo Alex Kent Getty Images Daniel Penny a Marine veteran charged with criminally negligent homicide in the chokehold death of Jordan Neely a Black unhoused man on a New York City subway train was acquitted by an N Y jury on Monday The big picture The death of the 30 year old Michael Jackson impersonator who performed in Times Square triggered awave of demonstrationsat the time and Black Lives Matter membersprotestedthroughout the trial of Penny who is white per the New York Times Zoom in Neely s father Andre Zachery wasremovedfrom the courtroom foryellingout in response to the jury finding Penny not guilty of the lesser charge according to multiple reports What they re saying We couldn t be more pleased that a jury of Danny s peers acquitted him of any wrongdoing said Penny s attorneys Steven Raiser and Thomas Kenniff in a joint mediastatement Manhattan District Attorney Alvin Bragg said he respected the jury s decision Zoom out Bragg noted that during the trial talented career prosecutors and their family members were besieged with hate and threats on social media by phone and over email The public trusts Anthony Fauci more than President elect Trump and his incoming health team as a source of medical information according to the latest Axios Ipsos American Health Index Photo illustration Ai da Amer Axios Photo Pennsylvania Dept of Corrections Luigi Mangione charged in the brazen murder of United Healthcare CEO Brian Thompson left behind a tantalizing digital footprint with few parallels in the history of famed assassins Why it matters Mangione s alleged crime and possible motivations have sparked nationwide debates over America s health care systemand its culture of violence which have already rippled throughbusinessandpolitics Photo illustration Brendan Lynch Axios Photos Chip Somodevilla and Anna Moneymaker Getty Images and Ugur Yildirim dia images via Getty Images President Bidenresponded to the collapse of Bashar al Assad s brutal regime in Syria by bombing ISIS camps to try to prevent the terror group s resurgence Why it matters Biden has less than six weeks left in office so how the U S proceeds will largely be up to Trump And while the president elect s base may support steering clear of Syria s chaos certainnational security officialswon t A jury has acquitted former Marine Daniel Penny of criminally negligent homicide in the death of Jordan Neely in a case that raised questions about self defence and vigilantism on New York s subway system A more serious manslaughter charge was dismissed earlier in deliberations because the jury deadlocked on that count Both charges were felonies and carried the possibility of years of prison time Penny 26 has said he never intended to kill Neely a 30 year old with a history of mental illness during their encounter on an uptown train on May 1 2023 Penny did not testify during the trial which began in October though the jury saw an interview he gave to police immediately after the incident The killing gained widespread public attention with some viewing Neely who was Black as a victim of a white vigilante Others including some Republican politicians called Penny a hero As well duelling demonstrations supporting both Penny and Neely s family played out in front of the Manhattan court building including on Monday It really really hurts Neely s father Andre Zachery said outside the courthouse I had enough of this The system is rigged Prosecutors from the Manhattan District Attorney s Office did not dispute that Neely was loud angry and threatening as he boarded the train shouting that he was hungry thirsty and wanted to be sent back to jail But they told jurors that Penny who grabbed Neely from behind with an arm around Neely s neck and brought him to the floor used deadly physical force without justification and for far longer than necessary Dafna Yoran an assistant district attorney said Penny was warned by people around him about risks to Neely s life and intentionally ignored them He didn t recognize that Mr Neely too was a person she said during her closing argument last week He didn t care what happened to Mr Neely Penny continued to choke Neely on the floor of the subway car for nearly six minutes after the train pulled into the station and other passengers left prosecutors said He s dying an unseen bystander said in the background of one video Let him go Penny s defence lawyers told jurors that Penny a student on his way to a gym acted out of alarm that Neely might hurt a woman and a child he was approaching Neely was unarmed Lawyer Steven Raiser said his client held Neely until he knew that he was no longer a threat but did not apply pressure on his airway during the last crucial moments What happened on May 1 2023 was not a chokehold death Raiser said on Monday He was controlling Mr Neely s body not choking him Penny s lawyer theorized that Neely died from another cause possibly a drug overdose or a sickle cell crisis Prosecutor Yoran rejected those scenarios telling jurors it is extremely rare for sickle cell a genetic blood disorder to lead to a fatal crisis and that it also was unlikely Neely died from a drug overdose at exactly the same moment he was being held in a chokehold Neely was unarmed with nothing but a muffin in his pocket and didn t touch any passengers on the train Multiple riders testified that he didn t even approach anybody and that they didn t consider their lives threatened But one said he made lunging movements that alarmed her enough that she shielded her five year old from him Penny who was on his way from a college class to the gym came up behind Neely grabbed his neck took him to the floor and put him out as he told police at the scene But Penny s former Marine Corps combat instructor testified that the veteran misused a chokehold technique he d been taught Nevertheless New York City Mayor Eric Adams in a radio interview on Nov 30 appeared to back Penny You have someone Penny on that subway who was responding doing what we should have done as a city told the Rob Astorino Show Those passengers were afraid Adams added Neely was a sometime subway performer with a tragic life story He struggled with mental illness after losing his mother whose boyfriend was convicted of murdering her and putting her remains in a suitcase Hospitalized for depression at age 14 Neely later was diagnosed with schizophrenia that at times made him hallucinate and become paranoid according to medical records seen at the trial With files from CBC News and the Associated Press A 26 year old man has been acquitted of homicide for putting an unarmed homeless man in a fatal chokehold a case that sparked weeks of protests and reignited debates over public safety mental illness and race Jurors deliberated for five days before declaring Daniel Penny not guilty beyond a reasonable doubt in the death of 30 year old Jordan Neely on a New York City subway train on 1 May 2023 The verdict comes after prosecutors agreed to drop a more serious charge of second degree manslaughter on Friday as jurors could not reach an agreement The move allowed the jurors to move on to consider the second lesser charge of criminally negligent homicide The verdict announced on Monday was met with loud applause in the Manhattan court Mr Penny who served four years in the Marines before studying architecture appeared to smile while his attorneys hugged We couldn t be more pleased that a jury of Danny s peers acquitted him of any wrongdoing his lawyers said in a statement afterwards New Yorkers can take some comfort in knowing that we can continue to stand up for one another without sacrificing our rights or our freedoms Mr Neely s father Andre Zachery was removed from court for shouting after the verdict Chants of no justice no peace could be heard echoing outside It hurts It really really hurts Mr Zachery said outside court What s gonna happen to us now I ve had enough of this Mr Neely s death sparked protests across the city and reignited debates over public transportation safety and how the city cares for those struggling with mental health issues and homelessness Some also highlighted the issue of race Mr Neely was black Mr Penny is white Jordan Neely was murdered New York congresswoman Alexandria Ocasio Cortez a left wing Democrat wrote on X at the time of his death adding he was houseless and crying for food in a time when the city is raising rents and stripping services But many conservatives defended Mr Penny s actions saying he had stepped in to keep the public safe On Monday following the verdict Vice President elect JD Vance wrote on X that it was a scandal Penny was ever prosecuted in the first place Thank God justice was done in this case he said Last spring witnesses said that Mr Neely who suffered from severe mental illnesses began shouting at other subway passengers asking for money and screaming that he was hungry and wanted to go back to jail One woman on the train said that Mr Neely made lunging movements that scared her enough to shield her young child from him Prosecutors said Mr Penny placed Mr Neely in a chokehold for six minutes compressing his neck even after he stopped moving They argued that Mr Penny had acted recklessly by restraining Mr Neely for several minutes even after he lost consciousness He s dying said an unseen bystander in one passenger s video Let him go Mr Penny s legal team argued that he only stepped in after Mr Neely began threatening passengers They also cited testimony from a forensic pathologist who said Mr Neely could have died from other contributing factors A medical examiner ruled Mr Neely s cause of death as compression to the neck Mr Neely was a Michael Jackson impersonator who performed in Times Square He had dozens of previous arrests on charges such as evading fares theft and assaults on three women Family members say his mental health issues began more than 15 years earlier when his mother was strangled to death and stuffed in a suitcase by her boyfriend In a statement released on Monday afternoon Neely family attorney Donte Mills said they were devastated Everyone matters Even if you re homeless have mental health issues have an addiction you matter Mr Mills said This verdict says otherwise Daniel Penny got away with murder The manslaughter charge against Mr Penny would have carried a 15 year maximum sentence while the negligent homicide charge would have carried a four year maximum'"
      ]
     },
     "execution_count": 25,
     "metadata": {},
     "output_type": "execute_result"
    }
   ],
   "source": [
    "description"
   ]
  },
  {
   "cell_type": "code",
   "execution_count": null,
   "id": "c66ceb6d-3349-4d95-9868-8e6b4461712d",
   "metadata": {},
   "outputs": [],
   "source": []
  },
  {
   "cell_type": "code",
   "execution_count": null,
   "id": "80bdc7bf-02b4-4733-b028-f3fc76e4925c",
   "metadata": {},
   "outputs": [],
   "source": []
  },
  {
   "cell_type": "code",
   "execution_count": null,
   "id": "732d0a2d-2dfc-4faa-b8ff-c9710afa1cc7",
   "metadata": {},
   "outputs": [],
   "source": []
  },
  {
   "cell_type": "code",
   "execution_count": null,
   "id": "5f500306-3fac-4085-b68c-cffa0474e24a",
   "metadata": {},
   "outputs": [],
   "source": []
  },
  {
   "cell_type": "code",
   "execution_count": null,
   "id": "a22238ba-189d-45fa-bd74-2f7df2bf7de9",
   "metadata": {},
   "outputs": [],
   "source": []
  },
  {
   "cell_type": "code",
   "execution_count": null,
   "id": "7e7bb972-b50d-4a33-ae3c-fe10c4bd075c",
   "metadata": {},
   "outputs": [],
   "source": []
  }
 ],
 "metadata": {
  "kernelspec": {
   "display_name": "Python 3 (ipykernel)",
   "language": "python",
   "name": "python3"
  },
  "language_info": {
   "codemirror_mode": {
    "name": "ipython",
    "version": 3
   },
   "file_extension": ".py",
   "mimetype": "text/x-python",
   "name": "python",
   "nbconvert_exporter": "python",
   "pygments_lexer": "ipython3",
   "version": "3.11.7"
  }
 },
 "nbformat": 4,
 "nbformat_minor": 5
}
