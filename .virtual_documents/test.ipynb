from DynamicPipelineExecutorFunction.DynamicPipelineExecutorFunction import *
from tqdm import tqdm


articles = fetch_news_data()


tc = TextCleaner()
description_summarizer = EnhancedDescriptionCleaner()
markdown_generator = AdvancedMarkdownGenerator()


article = articles[2]


article


title = article.get("title", None)
url = article.get("url", "No URL")
similar_articles = google_search_article_links(title, 5, [url])


ag = ArticleRepository(initial_titles=[title], initial_imgs=[article['urlToImage']], initial_descriptions=[article['description'], article['content']], initial_sources=[url], initial_authors=[article['author']])


similar_articles


for similar_article in tqdm(similar_articles):
    ag.get_article(similar_article)


ag.get_titles()


ag.get_descriptions()[:5]


ag.get_images()[:5]





description = EnhancedDescriptionCleaner.clean_description("\n".join(ag.get_descriptions()), title)


title = demonstrate_condenser(ag.get_titles())


title


description[:50]


# self.UnbiasedNewsGenerator.generate_unbiased_news


# markdown_generator.generate_markdown(description)


find_image_matches(ag.get_images() ,description, title)


find_image_matches(ag.get_images() ,description)


ag.get_sources()


ag.get_authors()


title


description


















